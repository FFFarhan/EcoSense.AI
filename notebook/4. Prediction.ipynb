{
 "cells": [
  {
   "cell_type": "code",
   "execution_count": null,
   "metadata": {},
   "outputs": [],
   "source": []
  },
  {
   "cell_type": "code",
   "execution_count": null,
   "metadata": {},
   "outputs": [],
   "source": [
    "def recursive_forecast(model, X_last, n_steps, rolling_window=3):\n",
    "    predictions = []\n",
    "    \n",
    "    for i in range(n_steps):\n",
    "        rolling_mean = np.mean(X_last[-rolling_window:])\n",
    "        rolling_std = np.std(X_last[-rolling_window:])\n",
    "        \n",
    "        is_weekend = 1 if (i % 7) >= 5 else 0\n",
    "        hour = (X_last[-1] + 1) % 24\n",
    "        \n",
    "        X_last = np.roll(X_last, shift=-1)\n",
    "        X_last[-1] = rolling_mean\n",
    "        X_last = np.roll(X_last, shift=-1)\n",
    "        X_last[-2] = rolling_std\n",
    "        X_last = np.roll(X_last, shift=-1)\n",
    "        X_last[-3] = is_weekend\n",
    "        X_last = np.roll(X_last, shift=-1)\n",
    "        X_last[-4] = hour\n",
    "        \n",
    "        next_pred = model.predict(X_last.reshape(1, -1))[0]\n",
    "        predictions.append(next_pred)\n",
    "        \n",
    "    return np.array(predictions)\n",
    "\n",
    "# def recursive_forecast(model, X_last, n_steps, rolling_window=3):\n",
    "#     predictions = []\n",
    "#     predictions.append(model.predict(X_last.reshape(1, -1))[0])\n",
    "\n",
    "#     for i in range(1, n_steps):\n",
    "#         # rolling_mean = np.mean(X_last[2:5])\n",
    "#         # rolling_std = np.std(X_last[2:5])\n",
    "#         # is_weekend = 1 if (X_last[1] + i % 7) >= 5 else 0\n",
    "        \n",
    "#         X_last[0] = (X_last[0] + 1) % 24\n",
    "#         X_last[4] = X_last[3]\n",
    "#         X_last[3] = X_last[2]\n",
    "#         X_last[2] = predictions[-1]\n",
    "#         X_last[5] = np.mean(X_last[2:5])\n",
    "#         X_last[6] = np.std(X_last[2:5]) \n",
    "\n",
    "#         # X_last = np.roll(X_last, shift=-1)\n",
    "#         # X_last[-1] = rolling_mean\n",
    "#         # X_last = np.roll(X_last, shift=-1)\n",
    "#         # X_last[-2] = rolling_std\n",
    "#         # X_last = np.roll(X_last, shift=-1)\n",
    "#         # X_last[-3] = is_weekend\n",
    "#         # X_last = np.roll(X_last, shift=-1)\n",
    "#         # X_last[-4] = hour\n",
    "        \n",
    "#         next_pred = model.predict(X_last.reshape(1, -1))[0]\n",
    "#         predictions.append(next_pred)\n",
    "        \n",
    "#     return np.array(predictions)"
   ]
  },
  {
   "cell_type": "code",
   "execution_count": null,
   "metadata": {},
   "outputs": [],
   "source": []
  }
 ],
 "metadata": {
  "kernelspec": {
   "display_name": ".venv",
   "language": "python",
   "name": "python3"
  },
  "language_info": {
   "name": "python",
   "version": "3.10.5"
  }
 },
 "nbformat": 4,
 "nbformat_minor": 2
}
